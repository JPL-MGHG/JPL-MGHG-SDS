{
 "cells": [
  {
   "cell_type": "code",
   "execution_count": null,
   "id": "cc34ce5c-3079-4fe9-8b50-c5396e56cd68",
   "metadata": {
    "tags": []
   },
   "outputs": [],
   "source": [
    "# Import the MAAP package\n",
    "from maap.maap import MAAP\n",
    "\n",
    "# Invoke the MAAP constructor using the maap_host argument\n",
    "maap = MAAP(maap_host='api.maap-project.org')"
   ]
  },
  {
   "cell_type": "code",
   "execution_count": null,
   "id": "22cf7511-7952-484d-a6ff-f9727392a6fd",
   "metadata": {
    "tags": []
   },
   "outputs": [],
   "source": [
    "# Have a trigger that invokes a job submission whenever a file hits the ISL-bucket. \n",
    "# The location within the bucket will fill in what algorithm should run. \n",
    "# This could be a lambda function\n",
    "\n",
    "maap.submitJob(identifier=\"run-job\",\n",
    "    algo_id=\"<algorithm-to-run>\",\n",
    "    version=\"main\",\n",
    "    username=\"ddalton\",\n",
    "    queue=\"maap-dps-worker-16gb\",\n",
    "    input_file=\"<input-file-that-triggered-job>\")\n",
    "\n",
    "\n",
    "# The outputs from the run will then populate files in the OSL bucket. For those algorithms that depend on the output from another algorithm as input. The output file will be also provided as an input"
   ]
  },
  {
   "cell_type": "code",
   "execution_count": null,
   "id": "a5e0354b-f9b9-4d8e-9404-c3d0797a9939",
   "metadata": {},
   "outputs": [],
   "source": []
  }
 ],
 "metadata": {
  "kernelspec": {
   "display_name": "Python 3 (ipykernel)",
   "language": "python",
   "name": "python3"
  },
  "language_info": {
   "codemirror_mode": {
    "name": "ipython",
    "version": 3
   },
   "file_extension": ".py",
   "mimetype": "text/x-python",
   "name": "python",
   "nbconvert_exporter": "python",
   "pygments_lexer": "ipython3",
   "version": "3.9.18"
  }
 },
 "nbformat": 4,
 "nbformat_minor": 5
}
